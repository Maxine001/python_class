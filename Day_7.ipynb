{
 "cells": [
  {
   "cell_type": "code",
   "execution_count": 11,
   "id": "217ba9ba",
   "metadata": {},
   "outputs": [
    {
     "name": "stdout",
     "output_type": "stream",
     "text": [
      "Enter customer purchase amount:400000\n",
      "please enter a region:south south\n",
      "______CUSTOMER RECEIPT_____\n",
      "        \"PURCHASE AMOUNT\": 400000.0\n",
      "        \"tax\": 14000.000000000002\n",
      "        \"Total amount including vat minus discount\":354000.0\n",
      "        \"sorry you are not eligible for a discount\"\n",
      "        \n"
     ]
    }
   ],
   "source": [
    "def sales():\n",
    "    purchaseamount = float(input('Enter customer purchase amount:'))\n",
    "    region = input('please enter a region:')\n",
    "    if purchaseamount > 500000 and region == 'south south':\n",
    "        print(f'''______CUSTOMER RECEIPT_____\n",
    "        \"PURCHASE AMOUNT\": {purchaseamount}\n",
    "        \"Discount\": {purchaseamount * 0.15}\n",
    "        \"tax\": {purchaseamount * 0.035}\n",
    "        \"Total amount including vat minus discount\":{purchaseamount + (purchaseamount * 0.035) - (purchaseamount * 0.15)} \n",
    "        ''')\n",
    "    elif purchaseamount > 500000 and region == 'south east':\n",
    "        print(f\"\"\"______CUSTOMER RECEIPT_____\n",
    "        \"PURCHASE AMOUNT\": {purchaseamount}\n",
    "        \"Discount\": {purchaseamount * 0.10}\n",
    "        \"tax\": {purchaseamount * 0.035}\n",
    "        \"Total amount including vat minus discount\":{purchaseamount + (purchaseamount * 0.035) - (purchaseamount * 0.15)} \n",
    "        \n",
    "        \"\"\")\n",
    "    elif purchaseamount > 500000 and region == 'south west':\n",
    "        print(f\"\"\"______CUSTOMER RECEIPT_____\n",
    "        \"PURCHASE AMOUNT\": {purchaseamount}\n",
    "        \"Discount\": {purchaseamount * 0.08}\n",
    "        \"tax\": {purchaseamount * 0.035}\n",
    "        \"Total amount including vat minus discount\":{purchaseamount + (purchaseamount * 0.035) - (purchaseamount * 0.15)} \n",
    "        \"\"\")\n",
    "    elif purchaseamount > 500000 and region == 'North east':\n",
    "        print(f\"\"\"______CUSTOMER RECEIPT_____\n",
    "        \"PURCHASE AMOUNT\": {purchaseamount}\n",
    "        \"Discount\": {purchaseamount * 0.12}\n",
    "        \"tax\": {purchaseamount * 0.035}\n",
    "        \"Total amount including vat minus discount\":{purchaseamount + (purchaseamount * 0.035) - (purchaseamount * 0.15)}\n",
    "        \"\"\")\n",
    "    elif purchaseamount > 500000 and region == 'North west':\n",
    "        print(f\"\"\"______CUSTOMER RECEIPT_____\n",
    "        \"PURCHASE AMOUNT\": {purchaseamount}\n",
    "        \"Discount\": {purchaseamount * 0.11}\n",
    "        \"tax\": {purchaseamount * 0.035}\n",
    "        \"Total amount including vat minus discount\":{purchaseamount + (purchaseamount * 0.035) - (purchaseamount * 0.15)}\n",
    "        \"\"\")\n",
    "    elif purchaseamount > 500000 and region == 'North central':\n",
    "        print(f\"\"\"______CUSTOMER RECEIPT_____\n",
    "        \"PURCHASE AMOUNT\": {purchaseamount}\n",
    "        \"Discount\": {purchaseamount * 0.06}\n",
    "        \"tax\": {purchaseamount * 0.035}\n",
    "        \"Total amount including vat minus discount\":{purchaseamount + (purchaseamount * 0.035) - (purchaseamount * 0.15)}\n",
    "        \"\"\")\n",
    "    else: \n",
    "        print(f\"\"\"______CUSTOMER RECEIPT_____\n",
    "        \"PURCHASE AMOUNT\": {purchaseamount}\n",
    "        \"tax\": {purchaseamount * 0.035}\n",
    "        \"Total amount including vat minus discount\":{purchaseamount + (purchaseamount * 0.035) - (purchaseamount * 0.15)}\n",
    "        \"sorry you are not eligible for a discount\"\n",
    "        \"\"\")\n",
    "    \n",
    "sales()\n"
   ]
  },
  {
   "cell_type": "markdown",
   "id": "69859533",
   "metadata": {},
   "source": [
    "## lambda"
   ]
  },
  {
   "cell_type": "code",
   "execution_count": 12,
   "id": "4e18e078",
   "metadata": {},
   "outputs": [
    {
     "data": {
      "text/plain": [
       "12"
      ]
     },
     "execution_count": 12,
     "metadata": {},
     "output_type": "execute_result"
    }
   ],
   "source": [
    "def add(x, y):\n",
    "    return x + y\n",
    "add(4,8)"
   ]
  },
  {
   "cell_type": "code",
   "execution_count": 13,
   "id": "3954ffc9",
   "metadata": {},
   "outputs": [
    {
     "data": {
      "text/plain": [
       "7"
      ]
     },
     "execution_count": 13,
     "metadata": {},
     "output_type": "execute_result"
    }
   ],
   "source": [
    "(lambda x,y: x + y)(4,3)"
   ]
  },
  {
   "cell_type": "code",
   "execution_count": 15,
   "id": "a7aaa6d4",
   "metadata": {},
   "outputs": [
    {
     "data": {
      "text/plain": [
       "42"
      ]
     },
     "execution_count": 15,
     "metadata": {},
     "output_type": "execute_result"
    }
   ],
   "source": [
    "(lambda x,y,z: x + y * z)(2,5,8)"
   ]
  },
  {
   "cell_type": "code",
   "execution_count": 21,
   "id": "8a6c6fe9",
   "metadata": {},
   "outputs": [
    {
     "name": "stdout",
     "output_type": "stream",
     "text": [
      "Enter a new password: Agfggrhgu\n"
     ]
    },
    {
     "data": {
      "text/plain": [
       "'Agfggrhgu is correct'"
      ]
     },
     "execution_count": 21,
     "metadata": {},
     "output_type": "execute_result"
    }
   ],
   "source": [
    "## write a lambda function giving a user prompt to start a upper case and len of 8 password\n",
    "(lambda password: f\"{password} is correct\" if password[0]==password[0].upper() and len(password) >= 8 else \"Incorrect password requirement\")(input(\"Enter a new password: \"))"
   ]
  },
  {
   "cell_type": "code",
   "execution_count": 22,
   "id": "b18f97bd",
   "metadata": {},
   "outputs": [
    {
     "name": "stdout",
     "output_type": "stream",
     "text": [
      "[8, 10]\n"
     ]
    }
   ],
   "source": [
    "## filter function\n",
    "num2= [1,8,9,7,10]\n",
    "nlist=list(filter(lambda x: x %2 == 0, num2))\n",
    "print(nlist)"
   ]
  },
  {
   "cell_type": "code",
   "execution_count": null,
   "id": "5d81b25d",
   "metadata": {},
   "outputs": [],
   "source": []
  }
 ],
 "metadata": {
  "kernelspec": {
   "display_name": "Python 3 (ipykernel)",
   "language": "python",
   "name": "python3"
  },
  "language_info": {
   "codemirror_mode": {
    "name": "ipython",
    "version": 3
   },
   "file_extension": ".py",
   "mimetype": "text/x-python",
   "name": "python",
   "nbconvert_exporter": "python",
   "pygments_lexer": "ipython3",
   "version": "3.11.5"
  }
 },
 "nbformat": 4,
 "nbformat_minor": 5
}
