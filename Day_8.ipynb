{
 "cells": [
  {
   "cell_type": "code",
   "execution_count": 1,
   "id": "25d714c2",
   "metadata": {},
   "outputs": [
    {
     "name": "stdout",
     "output_type": "stream",
     "text": [
      "[1, 25, 49, 81, 100]\n"
     ]
    }
   ],
   "source": [
    "## MAP\n",
    "numbers=[1,5,7,9,10]\n",
    "squared_roots=list(map(lambda x: x ** 2, numbers))\n",
    "print(squared_roots) "
   ]
  },
  {
   "cell_type": "markdown",
   "id": "00a3b1f4",
   "metadata": {},
   "source": [
    "# oop (OBJECT ORIENTED PROGRAMMING)"
   ]
  },
  {
   "cell_type": "code",
   "execution_count": 4,
   "id": "9c40b9cf",
   "metadata": {},
   "outputs": [
    {
     "data": {
      "text/plain": [
       "'height'"
      ]
     },
     "execution_count": 4,
     "metadata": {},
     "output_type": "execute_result"
    }
   ],
   "source": [
    "class person:\n",
    "    attrl1=\"sam\"\n",
    "    attrl2=\"dark\"\n",
    "    attrl3=\"height\"\n",
    "human=person()\n",
    "human.attrl1\n",
    "human.attrl2\n",
    "human.attrl3\n"
   ]
  },
  {
   "cell_type": "markdown",
   "id": "9944ab7a",
   "metadata": {},
   "source": [
    "## Adding functions to classification"
   ]
  },
  {
   "cell_type": "code",
   "execution_count": 9,
   "id": "ec8e2b8c",
   "metadata": {},
   "outputs": [],
   "source": [
    "class person:\n",
    "    attrl1=\"sam\"\n",
    "    attrl2=\"dark\"\n",
    "    attrl3=\"height\"\n",
    "    attrl4=45\n",
    "    def __init__(self):\n",
    "        self.attrl1\n",
    "    def details(self):\n",
    "        print(f''' name: {self.attrl1}\n",
    "        complexion:{self.attrl2}''')\n",
    "    def action(self):\n",
    "        print(f'my name is {self.attrl1} and i am {self.attrl2}')\n",
    "person1=person()\n",
    "\n"
   ]
  },
  {
   "cell_type": "code",
   "execution_count": 10,
   "id": "f4e85d16",
   "metadata": {},
   "outputs": [
    {
     "name": "stdout",
     "output_type": "stream",
     "text": [
      " name: sam\n",
      "        complexion:dark\n"
     ]
    }
   ],
   "source": [
    "person1.details()\n"
   ]
  },
  {
   "cell_type": "code",
   "execution_count": 12,
   "id": "775a5d90",
   "metadata": {},
   "outputs": [
    {
     "name": "stdout",
     "output_type": "stream",
     "text": [
      "my name is sam and i am dark\n"
     ]
    }
   ],
   "source": [
    "person1.action()"
   ]
  },
  {
   "cell_type": "code",
   "execution_count": 1,
   "id": "4930b0c1",
   "metadata": {},
   "outputs": [
    {
     "name": "stdout",
     "output_type": "stream",
     "text": [
      "0\n"
     ]
    }
   ],
   "source": [
    "class monieapp:\n",
    "    def __init__(self):\n",
    "        self.balance =0\n",
    "    def deposit(self):\n",
    "        amount=float(input(\"Enter the deposit amount:\"))\n",
    "        self.balance += amount\n",
    "        print(\"Transaction succesful....\")\n",
    "    def transfer(self):\n",
    "        amount = float(input('Enter transfer amount'))\n",
    "        bankname=input('Enter bank name:')\n",
    "        acct_number = input('Enter Receiver account number:')\n",
    "        if amount > self.balance or amount == 0:\n",
    "            print('Cannot complete transaction due to zero or insufficient funds')\n",
    "        else:\n",
    "            self.balance -= amount\n",
    "            print('Transfer successfully completed!!!')\n",
    "    def airtime(self):\n",
    "        amount = float(input('Enter airtime amount:'))\n",
    "        provider=input('Enter provider name:')\n",
    "        phone_number = input('Enter phone number:')\n",
    "        if amount > self.balance or amount == 0:\n",
    "            print('Cannot complete transaction due to zero or insufficient funds')\n",
    "        else:\n",
    "            self.balance -= amount\n",
    "            print('Airtime transfered successfully completed!!')\n",
    "    def data(self):\n",
    "        amount = float(input('Enter data amount:'))\n",
    "        provider= input('Enter provider name:')\n",
    "        phone_number = input('Enter phone number:')\n",
    "        if amount > self.balance or amount == 0:\n",
    "            print('Cannot complete transaction due to zero or insufficient funds')\n",
    "        else:\n",
    "            self.balance -= amount\n",
    "            print('Data transfered successfully!!!')\n",
    "    def check_balance(self):\n",
    "        print(f' Your available balance is {self.balance}')\n",
    "bankapp=monieapp()\n",
    "        \n",
    "        \n",
    "        "
   ]
  },
  {
   "cell_type": "code",
   "execution_count": 14,
   "id": "9d9f8905",
   "metadata": {},
   "outputs": [
    {
     "name": "stdout",
     "output_type": "stream",
     "text": [
      " Your available balance is 0\n"
     ]
    }
   ],
   "source": [
    "bankapp.check_balance()"
   ]
  },
  {
   "cell_type": "code",
   "execution_count": 15,
   "id": "584dd0d1",
   "metadata": {},
   "outputs": [
    {
     "name": "stdout",
     "output_type": "stream",
     "text": [
      "Enter transfer amount2002\n",
      "Enter bank name:Zenith bank\n",
      "Enter Receiver account number:33333\n",
      "Cannot complete transaction due to zero or insufficient funds\n"
     ]
    }
   ],
   "source": [
    "bankapp.transfer()"
   ]
  },
  {
   "cell_type": "code",
   "execution_count": 16,
   "id": "90c0a1e9",
   "metadata": {},
   "outputs": [
    {
     "name": "stdout",
     "output_type": "stream",
     "text": [
      "Enter the deposit amount:30000\n",
      "Transaction succesful....\n"
     ]
    }
   ],
   "source": [
    "bankapp.deposit()"
   ]
  },
  {
   "cell_type": "code",
   "execution_count": 17,
   "id": "bb5a433b",
   "metadata": {},
   "outputs": [
    {
     "name": "stdout",
     "output_type": "stream",
     "text": [
      "Enter transfer amount15000\n",
      "Enter bank name:Zenith bank\n",
      "Enter Receiver account number:234444444\n",
      "Transfer successfully completed!!!\n"
     ]
    }
   ],
   "source": [
    "bankapp.transfer()"
   ]
  },
  {
   "cell_type": "code",
   "execution_count": 18,
   "id": "1e19455b",
   "metadata": {},
   "outputs": [
    {
     "name": "stdout",
     "output_type": "stream",
     "text": [
      " Your available balance is 15000.0\n"
     ]
    }
   ],
   "source": [
    "bankapp.check_balance()"
   ]
  },
  {
   "cell_type": "code",
   "execution_count": null,
   "id": "b1d723e3",
   "metadata": {},
   "outputs": [],
   "source": []
  }
 ],
 "metadata": {
  "kernelspec": {
   "display_name": "Python 3 (ipykernel)",
   "language": "python",
   "name": "python3"
  },
  "language_info": {
   "codemirror_mode": {
    "name": "ipython",
    "version": 3
   },
   "file_extension": ".py",
   "mimetype": "text/x-python",
   "name": "python",
   "nbconvert_exporter": "python",
   "pygments_lexer": "ipython3",
   "version": "3.11.5"
  }
 },
 "nbformat": 4,
 "nbformat_minor": 5
}
