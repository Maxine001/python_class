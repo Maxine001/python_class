{
 "cells": [
  {
   "cell_type": "code",
   "execution_count": 1,
   "id": "bcc05894",
   "metadata": {},
   "outputs": [
    {
     "name": "stdout",
     "output_type": "stream",
     "text": [
      "physics score:55\n",
      "Biology score:55\n",
      "History score:55\n",
      "Accounting score:55\n",
      "Economics score:55\n",
      "English score:55\n",
      "Your avg score is 55.0 and score point is C\n"
     ]
    }
   ],
   "source": [
    "## PROGRAM SOFTWARE THAT USES STUDENT SUBJECTS TO LOOK FOR THE AVERAGE OF THE SCORE AND GIVE A SCORE POINT\n",
    "grades1 = float(input(\"physics score:\"))\n",
    "grades2 = float(input(\"Biology score:\"))\n",
    "grades3 = float(input(\"History score:\"))\n",
    "grades4 = float(input(\"Accounting score:\"))\n",
    "grades5 = float(input(\"Economics score:\"))\n",
    "grades6 = float(input(\"English score:\"))\n",
    "\n",
    "import statistics as stat\n",
    "avg=round(stat.mean([grades1,grades2,grades3,grades4,grades5,grades6]),2)\n",
    "if avg >= 70 and avg <=100:\n",
    "    print(f'Your avg score is {avg} and score point is A')\n",
    "elif avg >= 60 and avg <=69.99:\n",
    "    print(f'Your avg score is {avg} and score point is B')\n",
    "elif avg >= 50 and avg <=59.99:\n",
    "    print(f'Your avg score is {avg} and score point is C')\n",
    "elif avg >= 40 and avg <=49.99:\n",
    "    print(f'Your avg score is {avg} and score point is D')\n",
    "else: \n",
    "    print(f'sorry you failed badly')\n"
   ]
  },
  {
   "cell_type": "markdown",
   "id": "b458cd47",
   "metadata": {},
   "source": [
    "##### LOOPS"
   ]
  },
  {
   "cell_type": "code",
   "execution_count": 7,
   "id": "dfecdccc",
   "metadata": {},
   "outputs": [
    {
     "name": "stdout",
     "output_type": "stream",
     "text": [
      "p\n",
      "y\n",
      "t\n",
      "h\n",
      "o\n",
      "n\n"
     ]
    }
   ],
   "source": [
    "## LOOPS IS THE ACT OF A PROGRAMMER TO REPEAT A PROGRAM OVER AGAIN USING THE LOOP FUNCTION.\n",
    "## For loops: This must have a particular element or variable to loop over in which name stand for itself(FOR)\n",
    "\n",
    "word=\"python\"\n",
    "for h in word:\n",
    "  print(h)"
   ]
  },
  {
   "cell_type": "code",
   "execution_count": 10,
   "id": "557e044e",
   "metadata": {},
   "outputs": [
    {
     "name": "stdout",
     "output_type": "stream",
     "text": [
      "pppppp\n",
      "yyyyyy\n",
      "tttttt\n",
      "hhhhhh\n",
      "oooooo\n",
      "nnnnnn\n"
     ]
    }
   ],
   "source": [
    "word=\"python\"\n",
    "for h in word:\n",
    "  print(h * 6)"
   ]
  },
  {
   "cell_type": "code",
   "execution_count": 15,
   "id": "7d14f08b",
   "metadata": {},
   "outputs": [
    {
     "name": "stdout",
     "output_type": "stream",
     "text": [
      "Enter The character name:z\n",
      "character not found\n"
     ]
    }
   ],
   "source": [
    "## for loop(using conditional statement)\n",
    "word=\"python\"\n",
    "user=input(\"Enter The character name:\")\n",
    "for o in word:\n",
    "    if user == o:\n",
    "        print(\"character found\")\n",
    "        break\n",
    "else:\n",
    "        print(\"character not found\")"
   ]
  },
  {
   "cell_type": "markdown",
   "id": "562a4e49",
   "metadata": {},
   "source": [
    "## While loops"
   ]
  },
  {
   "cell_type": "code",
   "execution_count": 3,
   "id": "7c2ad338",
   "metadata": {},
   "outputs": [
    {
     "ename": "KeyboardInterrupt",
     "evalue": "Interrupted by user",
     "output_type": "error",
     "traceback": [
      "\u001b[1;31m---------------------------------------------------------------------------\u001b[0m",
      "\u001b[1;31mKeyboardInterrupt\u001b[0m                         Traceback (most recent call last)",
      "Cell \u001b[1;32mIn[3], line 2\u001b[0m\n\u001b[0;32m      1\u001b[0m counter\u001b[38;5;241m=\u001b[39m\u001b[38;5;241m0\u001b[39m\n\u001b[1;32m----> 2\u001b[0m num\u001b[38;5;241m=\u001b[39m\u001b[38;5;28mint\u001b[39m(\u001b[38;5;28minput\u001b[39m(\u001b[38;5;124m\"\u001b[39m\u001b[38;5;124mwhat is the square number:\u001b[39m\u001b[38;5;124m\"\u001b[39m))\n\u001b[0;32m      3\u001b[0m \u001b[38;5;28;01mimport\u001b[39;00m \u001b[38;5;21;01mmath\u001b[39;00m\n\u001b[0;32m      4\u001b[0m \u001b[38;5;28;01mwhile\u001b[39;00m num \u001b[38;5;241m!=\u001b[39m \u001b[38;5;241m0\u001b[39m:\n",
      "File \u001b[1;32m~\\anaconda3\\Lib\\site-packages\\ipykernel\\kernelbase.py:1202\u001b[0m, in \u001b[0;36mKernel.raw_input\u001b[1;34m(self, prompt)\u001b[0m\n\u001b[0;32m   1200\u001b[0m     msg \u001b[38;5;241m=\u001b[39m \u001b[38;5;124m\"\u001b[39m\u001b[38;5;124mraw_input was called, but this frontend does not support input requests.\u001b[39m\u001b[38;5;124m\"\u001b[39m\n\u001b[0;32m   1201\u001b[0m     \u001b[38;5;28;01mraise\u001b[39;00m StdinNotImplementedError(msg)\n\u001b[1;32m-> 1202\u001b[0m \u001b[38;5;28;01mreturn\u001b[39;00m \u001b[38;5;28mself\u001b[39m\u001b[38;5;241m.\u001b[39m_input_request(\n\u001b[0;32m   1203\u001b[0m     \u001b[38;5;28mstr\u001b[39m(prompt),\n\u001b[0;32m   1204\u001b[0m     \u001b[38;5;28mself\u001b[39m\u001b[38;5;241m.\u001b[39m_parent_ident[\u001b[38;5;124m\"\u001b[39m\u001b[38;5;124mshell\u001b[39m\u001b[38;5;124m\"\u001b[39m],\n\u001b[0;32m   1205\u001b[0m     \u001b[38;5;28mself\u001b[39m\u001b[38;5;241m.\u001b[39mget_parent(\u001b[38;5;124m\"\u001b[39m\u001b[38;5;124mshell\u001b[39m\u001b[38;5;124m\"\u001b[39m),\n\u001b[0;32m   1206\u001b[0m     password\u001b[38;5;241m=\u001b[39m\u001b[38;5;28;01mFalse\u001b[39;00m,\n\u001b[0;32m   1207\u001b[0m )\n",
      "File \u001b[1;32m~\\anaconda3\\Lib\\site-packages\\ipykernel\\kernelbase.py:1245\u001b[0m, in \u001b[0;36mKernel._input_request\u001b[1;34m(self, prompt, ident, parent, password)\u001b[0m\n\u001b[0;32m   1242\u001b[0m \u001b[38;5;28;01mexcept\u001b[39;00m \u001b[38;5;167;01mKeyboardInterrupt\u001b[39;00m:\n\u001b[0;32m   1243\u001b[0m     \u001b[38;5;66;03m# re-raise KeyboardInterrupt, to truncate traceback\u001b[39;00m\n\u001b[0;32m   1244\u001b[0m     msg \u001b[38;5;241m=\u001b[39m \u001b[38;5;124m\"\u001b[39m\u001b[38;5;124mInterrupted by user\u001b[39m\u001b[38;5;124m\"\u001b[39m\n\u001b[1;32m-> 1245\u001b[0m     \u001b[38;5;28;01mraise\u001b[39;00m \u001b[38;5;167;01mKeyboardInterrupt\u001b[39;00m(msg) \u001b[38;5;28;01mfrom\u001b[39;00m \u001b[38;5;28;01mNone\u001b[39;00m\n\u001b[0;32m   1246\u001b[0m \u001b[38;5;28;01mexcept\u001b[39;00m \u001b[38;5;167;01mException\u001b[39;00m:\n\u001b[0;32m   1247\u001b[0m     \u001b[38;5;28mself\u001b[39m\u001b[38;5;241m.\u001b[39mlog\u001b[38;5;241m.\u001b[39mwarning(\u001b[38;5;124m\"\u001b[39m\u001b[38;5;124mInvalid Message:\u001b[39m\u001b[38;5;124m\"\u001b[39m, exc_info\u001b[38;5;241m=\u001b[39m\u001b[38;5;28;01mTrue\u001b[39;00m)\n",
      "\u001b[1;31mKeyboardInterrupt\u001b[0m: Interrupted by user"
     ]
    }
   ],
   "source": [
    "counter=0\n",
    "num=int(input(\"what is the square number:\"))\n",
    "import math\n",
    "while num != 0:\n",
    "    print(f'The square root of {num} is {math.sqrt(num)}')\n",
    "    num=int(input('enter your number:'))\n",
    "    counter += 1"
   ]
  },
  {
   "cell_type": "code",
   "execution_count": 8,
   "id": "9c3be6fa",
   "metadata": {},
   "outputs": [
    {
     "name": "stdout",
     "output_type": "stream",
     "text": [
      "what is the number:2\n",
      " 2 * 2 = 4\n"
     ]
    }
   ],
   "source": [
    "counter=1\n",
    "num=int(input(\"what is the number:\"))\n",
    "while counter <= 12:\n",
    "    counter += 1\n",
    "    if counter == 3:\n",
    "       break\n",
    "    print(f' {num} * {counter} = {num * counter}')\n",
    "    "
   ]
  },
  {
   "cell_type": "code",
   "execution_count": 19,
   "id": "0f16eb08",
   "metadata": {},
   "outputs": [
    {
     "name": "stdout",
     "output_type": "stream",
     "text": [
      "10\n",
      "9\n",
      "8\n",
      "7\n",
      "6\n",
      "5\n",
      "4\n",
      "3\n",
      "2\n",
      "1\n",
      "HAPPY NEW YEAR>>>>\n"
     ]
    }
   ],
   "source": [
    "counter = 10\n",
    "while counter > 0:\n",
    "    print(counter)\n",
    "    counter -= 1\n",
    "print(\"HAPPY NEW YEAR>>>>\")"
   ]
  },
  {
   "cell_type": "code",
   "execution_count": 21,
   "id": "401df880",
   "metadata": {},
   "outputs": [
    {
     "name": "stdout",
     "output_type": "stream",
     "text": [
      "Enter your passwordcorrect_password123\n",
      "password correct. processing....\n"
     ]
    }
   ],
   "source": [
    "correct_password = \"correct_password123\"\n",
    "password = input(\"Enter your password\")\n",
    "if password == correct_password:\n",
    "    print(\"password correct. processing....\")\n",
    "else:\n",
    "    print(\"Incorrect password. Access Denied.\")"
   ]
  },
  {
   "cell_type": "code",
   "execution_count": null,
   "id": "ad342150",
   "metadata": {},
   "outputs": [],
   "source": []
  }
 ],
 "metadata": {
  "kernelspec": {
   "display_name": "Python 3 (ipykernel)",
   "language": "python",
   "name": "python3"
  },
  "language_info": {
   "codemirror_mode": {
    "name": "ipython",
    "version": 3
   },
   "file_extension": ".py",
   "mimetype": "text/x-python",
   "name": "python",
   "nbconvert_exporter": "python",
   "pygments_lexer": "ipython3",
   "version": "3.11.5"
  }
 },
 "nbformat": 4,
 "nbformat_minor": 5
}
