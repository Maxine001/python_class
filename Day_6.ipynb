{
 "cells": [
  {
   "cell_type": "markdown",
   "id": "6e3bc394",
   "metadata": {},
   "source": [
    "## Range"
   ]
  },
  {
   "cell_type": "code",
   "execution_count": 2,
   "id": "8ee59930",
   "metadata": {},
   "outputs": [
    {
     "name": "stdout",
     "output_type": "stream",
     "text": [
      "1\n",
      "2\n",
      "3\n",
      "4\n",
      "5\n",
      "6\n",
      "7\n",
      "8\n",
      "9\n",
      "10\n"
     ]
    }
   ],
   "source": [
    "##Range implifies by beginning a particular number to a determined number\n",
    "for h in range(1,11):\n",
    "    print(h)"
   ]
  },
  {
   "cell_type": "code",
   "execution_count": 8,
   "id": "6328abeb",
   "metadata": {},
   "outputs": [
    {
     "name": "stdout",
     "output_type": "stream",
     "text": [
      "PLAYER TWO WINS\n",
      " PLAYER ONE SCORE IS : 7\n",
      " PLAYER TWO SCORE IS : 8\n",
      "PLAYER TWO WINS\n",
      " PLAYER ONE SCORE IS : 8\n",
      " PLAYER TWO SCORE IS : 9\n",
      "PLAYER TWO WINS\n",
      " PLAYER ONE SCORE IS : 5\n",
      " PLAYER TWO SCORE IS : 8\n",
      "PLAYER TWO WINS\n",
      " PLAYER ONE SCORE IS : 6\n",
      " PLAYER TWO SCORE IS : 12\n",
      "PLAYER TWO WINS\n",
      " PLAYER ONE SCORE IS : 4\n",
      " PLAYER TWO SCORE IS : 7\n",
      "PLAYER TWO WINS\n",
      " PLAYER ONE SCORE IS : 8\n",
      " PLAYER TWO SCORE IS : 10\n",
      "DRAW\n",
      " PLAYER ONE SCORE IS : 4\n",
      " PLAYER TWO SCORE IS : 4\n",
      "PLAYER ONE WINS\n",
      " PLAYER ONE SCORE IS : 8\n",
      " PLAYER TWO SCORE IS : 7\n",
      "PLAYER TWO WINS\n",
      " PLAYER ONE SCORE IS : 11\n",
      " PLAYER TWO SCORE IS : 12\n",
      "PLAYER TWO WINS\n",
      " PLAYER ONE SCORE IS : 5\n",
      " PLAYER TWO SCORE IS : 8\n",
      "PLAYER TWO IS THE OVERALL WINNER BY 41 POINT\n"
     ]
    }
   ],
   "source": [
    "score1=0\n",
    "score2=0\n",
    "import random\n",
    "for q in range(1,11):\n",
    "    dice1 = (random.randint(1,6) + random.randint(1,6))\n",
    "    dice2 = (random.randint(1,6) + random.randint(1,6))\n",
    "    \n",
    "    if dice1 > dice2:\n",
    "        score1 += 5\n",
    "        print(\"PLAYER ONE WINS\")\n",
    "        print(f\" PLAYER ONE SCORE IS : {dice1}\")\n",
    "        print(f\" PLAYER TWO SCORE IS : {dice2}\")\n",
    "    elif dice2 > dice1:\n",
    "        score2 += 5\n",
    "        print(\"PLAYER TWO WINS\")\n",
    "        print(f\" PLAYER ONE SCORE IS : {dice1}\")\n",
    "        print(f\" PLAYER TWO SCORE IS : {dice2}\")\n",
    "    elif dice1 == dice2:\n",
    "        score1 += 1\n",
    "        score2 += 1\n",
    "        print(\"DRAW\")\n",
    "        print(f\" PLAYER ONE SCORE IS : {dice1}\")\n",
    "        print(f\" PLAYER TWO SCORE IS : {dice2}\")\n",
    "if score1 > score2:\n",
    "    print(f\"PLAYER ONE IS THE OVERALL WINNER BY {score1} POINT\")\n",
    "elif score2 > score1:\n",
    "    print(f\"PLAYER TWO IS THE OVERALL WINNER BY {score2} POINT\")\n",
    "elif score1 == score2:\n",
    "    print(f\"DRAW PLAYER ONE SCORE IS :{score1}, PLAYER TWO SCORE IS {score2} POINT\")\n",
    "    \n",
    "    "
   ]
  },
  {
   "cell_type": "code",
   "execution_count": 9,
   "id": "5c7a3580",
   "metadata": {},
   "outputs": [
    {
     "name": "stdout",
     "output_type": "stream",
     "text": [
      "Welcome to python class\n"
     ]
    }
   ],
   "source": [
    "def greet():\n",
    "    print(\"Welcome to python class\")\n",
    "greet()"
   ]
  },
  {
   "cell_type": "code",
   "execution_count": 10,
   "id": "1d77220d",
   "metadata": {},
   "outputs": [
    {
     "name": "stdout",
     "output_type": "stream",
     "text": [
      "Hello world\n"
     ]
    }
   ],
   "source": [
    "def greet():\n",
    "    print(\"Hello world\")\n",
    "greet()"
   ]
  },
  {
   "cell_type": "code",
   "execution_count": 11,
   "id": "24073710",
   "metadata": {},
   "outputs": [
    {
     "name": "stdout",
     "output_type": "stream",
     "text": [
      "Welcome to python class Malcolm\n"
     ]
    }
   ],
   "source": [
    "def greet2(name):\n",
    "    print(f'Welcome to python class {name}')\n",
    "greet2('Malcolm')"
   ]
  },
  {
   "cell_type": "code",
   "execution_count": 13,
   "id": "d146f1d1",
   "metadata": {
    "scrolled": true
   },
   "outputs": [
    {
     "name": "stdout",
     "output_type": "stream",
     "text": [
      "____CITIZEN DETAILS_____\n",
      "    \"Name\":John\n",
      "    \"Age\":16\n",
      "    \"Gender\":Male\n",
      "    \n",
      "YOU ARE ELIGIBLE TO VOTE FOR PRIMARY SECTION\n"
     ]
    }
   ],
   "source": [
    "def vote(name, age, gender):\n",
    "    print(f'''____CITIZEN DETAILS_____\n",
    "    \"Name\":{name}\n",
    "    \"Age\":{age}\n",
    "    \"Gender\":{gender}\n",
    "    ''')\n",
    "    if age > 18:\n",
    "        print('YOU ARE ELIGIBLE TO VOTE')\n",
    "    elif age >= 16:\n",
    "        print(\"YOU ARE ELIGIBLE TO VOTE FOR PRIMARY SECTION\")\n",
    "    else:\n",
    "        print('YOU ARE NOT ELIGIBLE TO VOTE')\n",
    "vote(\"John\", 16, 'Male')"
   ]
  },
  {
   "cell_type": "code",
   "execution_count": 15,
   "id": "0f6c7e3d",
   "metadata": {},
   "outputs": [
    {
     "name": "stdout",
     "output_type": "stream",
     "text": [
      "____CITIZEN DETAILS_____\n",
      "    \"Name\":John\n",
      "    \"Age\":16\n",
      "    \"Gender\":Male\n",
      "    \n",
      "YOU ARE ELIGIBLE TO VOTE FOR PRIMARY SECTION\n"
     ]
    }
   ],
   "source": [
    "def vote(name, gender, age=18):\n",
    "    print(f'''____CITIZEN DETAILS_____\n",
    "    \"Name\":{name}\n",
    "    \"Age\":{age}\n",
    "    \"Gender\":{gender}\n",
    "    ''')\n",
    "    if age > 18:\n",
    "        print('YOU ARE ELIGIBLE TO VOTE')\n",
    "    elif age >= 16:\n",
    "        print(\"YOU ARE ELIGIBLE TO VOTE FOR PRIMARY SECTION\")\n",
    "    else:\n",
    "        print('YOU ARE NOT ELIGIBLE TO VOTE')\n",
    "vote(\"John\", 'Male',16)"
   ]
  },
  {
   "cell_type": "code",
   "execution_count": 25,
   "id": "657370fc",
   "metadata": {},
   "outputs": [
    {
     "name": "stdout",
     "output_type": "stream",
     "text": [
      "____CITIZEN DETAILS_____\n",
      "    \"Name\":John\n",
      "    \"Age\":18\n",
      "    \"Gender\":male\n",
      "    \n",
      "YOU ARE NOT ELIGIBLE TO VOTE\n"
     ]
    }
   ],
   "source": [
    "def vote(name, gender='female', age=18):\n",
    "    print(f'''____CITIZEN DETAILS_____\n",
    "    \"Name\":{name}\n",
    "    \"Age\":{age}\n",
    "    \"Gender\":{gender}\n",
    "    ''')\n",
    "    if age >= 18 and gender =='female':\n",
    "        print('YOU ARE ELIGIBLE TO VOTE')\n",
    "    else:\n",
    "        print('YOU ARE NOT ELIGIBLE TO VOTE')\n",
    "vote(\"John\", 'male',18)"
   ]
  },
  {
   "cell_type": "code",
   "execution_count": 27,
   "id": "67aafd3e",
   "metadata": {},
   "outputs": [
    {
     "name": "stdout",
     "output_type": "stream",
     "text": [
      "____Booking Enquiry'\n",
      "    'Event': wedding\n",
      "    'Date': May 15, 2024\n",
      "    'Venue': Main Hall\n",
      "    \n",
      "The main hall is available for your event\n"
     ]
    }
   ],
   "source": [
    "def booking(event,date,venue='Main Hall'):\n",
    "    print(f'''____Booking Enquiry'\n",
    "    'Event': {event}\n",
    "    'Date': {date}\n",
    "    'Venue': {venue}\n",
    "    ''')\n",
    "    if venue == 'Main Hall':\n",
    "        print('The main hall is available for your event')\n",
    "    else:\n",
    "        print(f'unfortunately, {venue} is not available for your event!!')\n",
    "booking('wedding','May 15, 2024', 'Main Hall')"
   ]
  },
  {
   "cell_type": "code",
   "execution_count": null,
   "id": "b58cb037",
   "metadata": {},
   "outputs": [],
   "source": []
  }
 ],
 "metadata": {
  "kernelspec": {
   "display_name": "Python 3 (ipykernel)",
   "language": "python",
   "name": "python3"
  },
  "language_info": {
   "codemirror_mode": {
    "name": "ipython",
    "version": 3
   },
   "file_extension": ".py",
   "mimetype": "text/x-python",
   "name": "python",
   "nbconvert_exporter": "python",
   "pygments_lexer": "ipython3",
   "version": "3.11.5"
  }
 },
 "nbformat": 4,
 "nbformat_minor": 5
}
