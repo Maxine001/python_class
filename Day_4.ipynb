{
 "cells": [
  {
   "cell_type": "markdown",
   "id": "21e2306a",
   "metadata": {},
   "source": [
    "## modules"
   ]
  },
  {
   "cell_type": "code",
   "execution_count": 1,
   "id": "dc26cbb6",
   "metadata": {},
   "outputs": [
    {
     "name": "stdout",
     "output_type": "stream",
     "text": [
      "['__doc__', '__loader__', '__name__', '__package__', '__spec__', 'acos', 'acosh', 'asin', 'asinh', 'atan', 'atan2', 'atanh', 'cbrt', 'ceil', 'comb', 'copysign', 'cos', 'cosh', 'degrees', 'dist', 'e', 'erf', 'erfc', 'exp', 'exp2', 'expm1', 'fabs', 'factorial', 'floor', 'fmod', 'frexp', 'fsum', 'gamma', 'gcd', 'hypot', 'inf', 'isclose', 'isfinite', 'isinf', 'isnan', 'isqrt', 'lcm', 'ldexp', 'lgamma', 'log', 'log10', 'log1p', 'log2', 'modf', 'nan', 'nextafter', 'perm', 'pi', 'pow', 'prod', 'radians', 'remainder', 'sin', 'sinh', 'sqrt', 'tan', 'tanh', 'tau', 'trunc', 'ulp']\n"
     ]
    }
   ],
   "source": [
    "## Modules are written python files that helps to make a task easier and faster\n",
    "import math\n",
    "print(dir(math))"
   ]
  },
  {
   "cell_type": "code",
   "execution_count": 2,
   "id": "cc34560d",
   "metadata": {},
   "outputs": [
    {
     "name": "stdout",
     "output_type": "stream",
     "text": [
      "25\n",
      "5.0\n",
      "0.9912028118634736\n"
     ]
    }
   ],
   "source": [
    "num=25\n",
    "print(math.floor(num))\n",
    "print(math.sqrt(num))\n",
    "print(math.cos(num))"
   ]
  },
  {
   "cell_type": "code",
   "execution_count": 3,
   "id": "29f61c7f",
   "metadata": {},
   "outputs": [
    {
     "name": "stdout",
     "output_type": "stream",
     "text": [
      "['Counter', 'Decimal', 'Fraction', 'LinearRegression', 'NormalDist', 'StatisticsError', '_SQRT2', '__all__', '__annotations__', '__builtins__', '__cached__', '__doc__', '__file__', '__loader__', '__name__', '__package__', '__spec__', '_coerce', '_convert', '_decimal_sqrt_of_frac', '_exact_ratio', '_fail_neg', '_float_sqrt_of_frac', '_integer_sqrt_of_frac_rto', '_isfinite', '_mean_stdev', '_normal_dist_inv_cdf', '_sqrt_bit_width', '_ss', '_sum', 'bisect_left', 'bisect_right', 'correlation', 'covariance', 'defaultdict', 'erf', 'exp', 'fabs', 'fmean', 'fsum', 'geometric_mean', 'groupby', 'harmonic_mean', 'hypot', 'linear_regression', 'log', 'math', 'mean', 'median', 'median_grouped', 'median_high', 'median_low', 'mode', 'mul', 'multimode', 'namedtuple', 'numbers', 'pstdev', 'pvariance', 'quantiles', 'random', 'reduce', 'repeat', 'sqrt', 'stdev', 'sys', 'tau', 'variance']\n"
     ]
    }
   ],
   "source": [
    "import statistics as stat\n",
    "print(dir(stat))"
   ]
  },
  {
   "cell_type": "code",
   "execution_count": 7,
   "id": "d0b8923e",
   "metadata": {},
   "outputs": [
    {
     "name": "stdout",
     "output_type": "stream",
     "text": [
      "32.285714285714285\n",
      "35\n",
      "1\n",
      "16.224613870231096\n"
     ]
    }
   ],
   "source": [
    "num3=[1,25,50,45,30,35,40]\n",
    "print(stat.mean(num3))\n",
    "print(stat.median(num3))\n",
    "print(stat.mode(num3))\n",
    "print(stat.stdev(num3))"
   ]
  },
  {
   "cell_type": "code",
   "execution_count": 8,
   "id": "782eca47",
   "metadata": {},
   "outputs": [
    {
     "name": "stdout",
     "output_type": "stream",
     "text": [
      "['BPF', 'LOG4', 'NV_MAGICCONST', 'RECIP_BPF', 'Random', 'SG_MAGICCONST', 'SystemRandom', 'TWOPI', '_ONE', '_Sequence', '_Set', '__all__', '__builtins__', '__cached__', '__doc__', '__file__', '__loader__', '__name__', '__package__', '__spec__', '_accumulate', '_acos', '_bisect', '_ceil', '_cos', '_e', '_exp', '_floor', '_index', '_inst', '_isfinite', '_log', '_os', '_pi', '_random', '_repeat', '_sha512', '_sin', '_sqrt', '_test', '_test_generator', '_urandom', '_warn', 'betavariate', 'choice', 'choices', 'expovariate', 'gammavariate', 'gauss', 'getrandbits', 'getstate', 'lognormvariate', 'normalvariate', 'paretovariate', 'randbytes', 'randint', 'random', 'randrange', 'sample', 'seed', 'setstate', 'shuffle', 'triangular', 'uniform', 'vonmisesvariate', 'weibullvariate']\n"
     ]
    }
   ],
   "source": [
    "import random\n",
    "print(dir(random))"
   ]
  },
  {
   "cell_type": "code",
   "execution_count": 15,
   "id": "808a1619",
   "metadata": {},
   "outputs": [
    {
     "name": "stdout",
     "output_type": "stream",
     "text": [
      "50\n",
      "None\n"
     ]
    }
   ],
   "source": [
    "num5=[45,50,90,100,150]\n",
    "print(random.choice(num5))\n",
    "print(random.shuffle(num5))"
   ]
  },
  {
   "cell_type": "code",
   "execution_count": 19,
   "id": "05470c27",
   "metadata": {},
   "outputs": [
    {
     "name": "stdout",
     "output_type": "stream",
     "text": [
      "[100, 150, 50, 90, 45]\n"
     ]
    }
   ],
   "source": [
    "random.shuffle(num5)\n",
    "print(num5)"
   ]
  },
  {
   "cell_type": "code",
   "execution_count": 21,
   "id": "31a795c3",
   "metadata": {},
   "outputs": [
    {
     "name": "stdout",
     "output_type": "stream",
     "text": [
      "['Formatter', 'Template', '_ChainMap', '__all__', '__builtins__', '__cached__', '__doc__', '__file__', '__loader__', '__name__', '__package__', '__spec__', '_re', '_sentinel_dict', '_string', 'ascii_letters', 'ascii_lowercase', 'ascii_uppercase', 'capwords', 'digits', 'hexdigits', 'octdigits', 'printable', 'punctuation', 'whitespace']\n"
     ]
    }
   ],
   "source": [
    "import string\n",
    "print(dir(string))"
   ]
  },
  {
   "cell_type": "code",
   "execution_count": 22,
   "id": "9bd73637",
   "metadata": {},
   "outputs": [
    {
     "data": {
      "text/plain": [
       "'abcdefghijklmnopqrstuvwxyzABCDEFGHIJKLMNOPQRSTUVWXYZ'"
      ]
     },
     "execution_count": 22,
     "metadata": {},
     "output_type": "execute_result"
    }
   ],
   "source": [
    "string.ascii_letters"
   ]
  },
  {
   "cell_type": "code",
   "execution_count": 23,
   "id": "90ff4b7d",
   "metadata": {},
   "outputs": [
    {
     "data": {
      "text/plain": [
       "'!\"#$%&\\'()*+,-./:;<=>?@[\\\\]^_`{|}~'"
      ]
     },
     "execution_count": 23,
     "metadata": {},
     "output_type": "execute_result"
    }
   ],
   "source": [
    "string.punctuation"
   ]
  },
  {
   "cell_type": "code",
   "execution_count": 24,
   "id": "07fc3803",
   "metadata": {},
   "outputs": [
    {
     "data": {
      "text/plain": [
       "'0123456789'"
      ]
     },
     "execution_count": 24,
     "metadata": {},
     "output_type": "execute_result"
    }
   ],
   "source": [
    "string.digits"
   ]
  },
  {
   "cell_type": "markdown",
   "id": "a0485a75",
   "metadata": {},
   "source": [
    "## conditional statement"
   ]
  },
  {
   "cell_type": "code",
   "execution_count": 30,
   "id": "bc72cf59",
   "metadata": {},
   "outputs": [
    {
     "name": "stdout",
     "output_type": "stream",
     "text": [
      "What is your age:18\n",
      "sorry try next year\n"
     ]
    }
   ],
   "source": [
    "user1=float(input(\"What is your age:\"))\n",
    "if user1 > 18:\n",
    "    print(\"You are Eligible to vote\")\n",
    "else:\n",
    "    print(\"sorry try next year\")"
   ]
  },
  {
   "cell_type": "code",
   "execution_count": 37,
   "id": "20f08559",
   "metadata": {},
   "outputs": [
    {
     "name": "stdout",
     "output_type": "stream",
     "text": [
      "What is your age:20\n",
      "You are Eligible to vote\n"
     ]
    }
   ],
   "source": [
    "user1=float(input(\"What is your age:\"))\n",
    "if user1 > 18:\n",
    "    print(\"You are Eligible to vote\")\n",
    "elif user1 >= 16:\n",
    "    print(\"You are only eligible to vote in the primary sector\")\n",
    "else:\n",
    "    print(\"sorry try next year\")"
   ]
  },
  {
   "cell_type": "code",
   "execution_count": 36,
   "id": "1d3a2a97",
   "metadata": {},
   "outputs": [
    {
     "name": "stdout",
     "output_type": "stream",
     "text": [
      "What is your age:25\n",
      "What region do you reside in:south east\n",
      "congratulation you have a discount\n"
     ]
    }
   ],
   "source": [
    "age=int(input(\"What is your age:\"))\n",
    "region=input(\"What region do you reside in:\")\n",
    "if age >= 18 and region == \"south south\":\n",
    "    print(\"congratulation you have a discount\")\n",
    "elif age >= 18 and region == \"south west\":\n",
    "    print(\"congratulation you have a discount\")\n",
    "elif age >= 18 and region == \"south east\":\n",
    "    print(\"congratulation you have a discount\")\n",
    "elif age >= 18 and region == \"west west\":\n",
    "    print(\"congratulation you have a discount\")\n",
    "else:\n",
    "    print(\"sorry no discount is allocated to that region...try next time\")"
   ]
  },
  {
   "cell_type": "code",
   "execution_count": 5,
   "id": "c7d2a697",
   "metadata": {},
   "outputs": [
    {
     "name": "stdout",
     "output_type": "stream",
     "text": [
      "what is your age:19\n",
      "what is your state?:Abuja\n",
      "fuck you\n"
     ]
    }
   ],
   "source": [
    "age=int(input('what is your age:'))\n",
    "state=input(\"what is your state?:\")\n",
    "if age == 18 and state == 'Abuja':\n",
    "    print('congratulations boss')\n",
    "else: print('fuck you')\n"
   ]
  },
  {
   "cell_type": "code",
   "execution_count": 20,
   "id": "22c50c7f",
   "metadata": {},
   "outputs": [
    {
     "name": "stdout",
     "output_type": "stream",
     "text": [
      "{'todo1': 'watch youtube', 'date': '01/20/2000'}\n"
     ]
    }
   ],
   "source": [
    "todolist={\n",
    "    'list1':{'todo1':'watch youtube',\n",
    "            'date':'01/20/2000'},\n",
    "    \n",
    "    'list2':{'todo2':'wash dishes',\n",
    "            'date':'02/22/2000'},\n",
    "    \n",
    "    'list3':{'todo3':'eat meal',\n",
    "            'date':'03/33/2000'} \n",
    "}\n",
    "\n",
    "print(todolist['list1'])\n",
    "\n",
    "todolist2={\n",
    "    'list4':{\n",
    "        'todo4':'sing music',\n",
    "        'date':'04/11/2012'\n",
    "    },\n",
    "    'list5':{\n",
    "        'todo5':'dance hall',\n",
    "        'date':'05/20/2000'\n",
    "    }\n",
    "}"
   ]
  },
  {
   "cell_type": "code",
   "execution_count": 40,
   "id": "23b131ab",
   "metadata": {},
   "outputs": [
    {
     "name": "stdout",
     "output_type": "stream",
     "text": [
      "sing music\n",
      "dance hall\n"
     ]
    }
   ],
   "source": [
    "print(todolist2['list4']['todo4'])\n",
    "print(todolist2['list5'] ['todo5'])"
   ]
  },
  {
   "cell_type": "code",
   "execution_count": null,
   "id": "cf8d2dba",
   "metadata": {},
   "outputs": [],
   "source": []
  }
 ],
 "metadata": {
  "kernelspec": {
   "display_name": "Python 3 (ipykernel)",
   "language": "python",
   "name": "python3"
  },
  "language_info": {
   "codemirror_mode": {
    "name": "ipython",
    "version": 3
   },
   "file_extension": ".py",
   "mimetype": "text/x-python",
   "name": "python",
   "nbconvert_exporter": "python",
   "pygments_lexer": "ipython3",
   "version": "3.11.5"
  }
 },
 "nbformat": 4,
 "nbformat_minor": 5
}
